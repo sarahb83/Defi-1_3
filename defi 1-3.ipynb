{
 "cells": [
  {
   "cell_type": "markdown",
   "id": "bbe85c30",
   "metadata": {},
   "source": [
    "# Defi des parties 1-3\n",
    "## Le but de l'exercice est de collecter deux sources de données et de les rassembler en une seule. Il n'y a pas besoin de librairies externes pour résoudre cet exercice.\n",
    "## 1- collecte de la donnée¶\n",
    "###  Récupérer les données du fichier JSON \"data.json\" dans une structure de données python (liste, dict,...)\n",
    "### Récupérer les données du fichier csv \"data.csv\" dans une structure de données python (list, dict,...)\n",
    "### Concaténer les deux structures de données"
   ]
  },
  {
   "cell_type": "code",
   "execution_count": 1,
   "id": "3e1f8e74",
   "metadata": {},
   "outputs": [],
   "source": [
    "import csv\n",
    "import json\n",
    "from collections import defaultdict"
   ]
  },
  {
   "cell_type": "markdown",
   "id": "4830530f",
   "metadata": {},
   "source": [
    "# Partie JSON"
   ]
  },
  {
   "cell_type": "code",
   "execution_count": 2,
   "id": "12be408d",
   "metadata": {},
   "outputs": [
    {
     "name": "stdout",
     "output_type": "stream",
     "text": [
      "{'date': {'0': '10/02/20', '1': '20/03/20', '2': '15/04/20', '3': '19/04/20', '4': '17/05/20'}, 'depenses': {'0': 120, '1': 150, '2': 50, '3': 210, '4': 167}} <class 'dict'>\n"
     ]
    }
   ],
   "source": [
    "with open(\"data.json\") as json_file:\n",
    "    data_json = json.load(json_file)\n",
    "print(data_json, type(data_json))    "
   ]
  },
  {
   "cell_type": "code",
   "execution_count": 3,
   "id": "bcf064ac",
   "metadata": {},
   "outputs": [
    {
     "name": "stdout",
     "output_type": "stream",
     "text": [
      "data_json\n"
     ]
    }
   ],
   "source": [
    "def to_tuple(data, nom_list):\n",
    "    result = []\n",
    "    for i in range(len(data[\"date\"])):\n",
    "        result.append((data[\"date\"][str(i)], data[\"depenses\"][str(i)], nom_list))\n",
    "    return result\n",
    "data_json = to_tuple(data_json, \"json_list\")\n",
    "print(\"data_json\")"
   ]
  },
  {
   "cell_type": "markdown",
   "id": "fe394e67",
   "metadata": {},
   "source": [
    "## Partie CSV"
   ]
  },
  {
   "cell_type": "code",
   "execution_count": 4,
   "id": "3be3f3b5",
   "metadata": {},
   "outputs": [
    {
     "name": "stdout",
     "output_type": "stream",
     "text": [
      "defaultdict(<class 'dict'>, {'date': {'0': '10/02/20', '1': '20/03/20', '2': '15/04/20', '3': '19/04/20', '4': '17/05/20'}, 'depenses': {'0': 120, '1': 150, '2': 50, '3': 210, '4': 167}})\n",
      "data_csv\n"
     ]
    }
   ],
   "source": [
    "with open (\"data.csv\") as csv_file:\n",
    "    data_DR = csv.DictReader(csv_file)\n",
    "    data_csv = defaultdict(dict)\n",
    "    for i, elt in enumerate(data_DR):\n",
    "        data_csv['date'][str(i)] = elt ['date']\n",
    "        data_csv['depenses'][str(i)] = int(elt['depenses'])\n",
    "print(data_csv)\n",
    "\n",
    "data_csv = to_tuple(data_csv, \"csv_list\")\n",
    "print(\"data_csv\")"
   ]
  },
  {
   "cell_type": "markdown",
   "id": "f59e5663",
   "metadata": {},
   "source": [
    "## Partie concatenation"
   ]
  },
  {
   "cell_type": "code",
   "execution_count": 5,
   "id": "0c1f74d3",
   "metadata": {},
   "outputs": [
    {
     "name": "stdout",
     "output_type": "stream",
     "text": [
      "[('10/02/20', 120, 'json_list'), ('20/03/20', 150, 'json_list'), ('15/04/20', 50, 'json_list'), ('19/04/20', 210, 'json_list'), ('17/05/20', 167, 'json_list'), ('10/02/20', 120, 'csv_list'), ('20/03/20', 150, 'csv_list'), ('15/04/20', 50, 'csv_list'), ('19/04/20', 210, 'csv_list'), ('17/05/20', 167, 'csv_list')]\n"
     ]
    }
   ],
   "source": [
    "result = []\n",
    "result.extend(data_json)\n",
    "result.extend(data_csv)\n",
    "print(result)"
   ]
  },
  {
   "cell_type": "markdown",
   "id": "4b8ac61a",
   "metadata": {},
   "source": [
    "## 2- Stockage des resultats\n",
    "\n",
    "### Créer un fichier json avec l'ensemble des données\n",
    "### Créer un fichier csv avec l'ensemble des données"
   ]
  },
  {
   "cell_type": "code",
   "execution_count": 6,
   "id": "3bc71525",
   "metadata": {},
   "outputs": [],
   "source": [
    "with open(\"result_json.json\", \"w\") as json_file:\n",
    "    json.dump(result, json_file, indent=6)"
   ]
  },
  {
   "cell_type": "code",
   "execution_count": 7,
   "id": "1fa858a3",
   "metadata": {},
   "outputs": [],
   "source": [
    "with open(\"result_csv.csv\", \"w\", newline=\"\") as csv_file:\n",
    "    writer = csv.writer(csv_file)\n",
    "    writer.writerow([\"date\", \"depenses\", \"origine\"])\n",
    "    for elt in result:\n",
    "        writer.writerow(elt)"
   ]
  },
  {
   "cell_type": "markdown",
   "id": "ad4eab5d",
   "metadata": {},
   "source": [
    "## 3- Présentation des résultats\n",
    "### Créer un compte Github (si vous ne l'avez pas deja fait) -> lien vers Github\n",
    "### Créer un repository pour les notebooks des exercices pour ce module\n",
    "### Créer une version web pour votre notebook (statique ou interactive"
   ]
  },
  {
   "cell_type": "code",
   "execution_count": null,
   "id": "9a9020eb",
   "metadata": {},
   "outputs": [],
   "source": []
  }
 ],
 "metadata": {
  "kernelspec": {
   "display_name": "Python 3",
   "language": "python",
   "name": "python3"
  },
  "language_info": {
   "codemirror_mode": {
    "name": "ipython",
    "version": 3
   },
   "file_extension": ".py",
   "mimetype": "text/x-python",
   "name": "python",
   "nbconvert_exporter": "python",
   "pygments_lexer": "ipython3",
   "version": "3.8.8"
  }
 },
 "nbformat": 4,
 "nbformat_minor": 5
}
